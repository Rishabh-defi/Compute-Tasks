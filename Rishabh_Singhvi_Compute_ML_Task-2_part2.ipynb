{
  "metadata": {
    "language_info": {
      "codemirror_mode": {
        "name": "python",
        "version": 3
      },
      "file_extension": ".py",
      "mimetype": "text/x-python",
      "name": "python",
      "nbconvert_exporter": "python",
      "pygments_lexer": "ipython3",
      "version": "3.8"
    },
    "kernelspec": {
      "name": "python",
      "display_name": "Python (Pyodide)",
      "language": "python"
    }
  },
  "nbformat_minor": 4,
  "nbformat": 4,
  "cells": [
    {
      "cell_type": "code",
      "source": "import pandas as pd\nimport numpy as np",
      "metadata": {
        "trusted": true
      },
      "execution_count": 1,
      "outputs": []
    },
    {
      "cell_type": "code",
      "source": "df=pd.read_csv('data.csv')",
      "metadata": {
        "trusted": true
      },
      "execution_count": 4,
      "outputs": []
    },
    {
      "cell_type": "code",
      "source": "df",
      "metadata": {
        "trusted": true
      },
      "execution_count": 5,
      "outputs": [
        {
          "execution_count": 5,
          "output_type": "execute_result",
          "data": {
            "text/plain": "      Unnamed: 0  acousticness  danceability  duration_ms  energy  \\\n0              0       0.01020         0.833       204600   0.434   \n1              1       0.19900         0.743       326933   0.359   \n2              2       0.03440         0.838       185707   0.412   \n3              3       0.60400         0.494       199413   0.338   \n4              4       0.18000         0.678       392893   0.561   \n...          ...           ...           ...          ...     ...   \n2012        2012       0.00106         0.584       274404   0.932   \n2013        2013       0.08770         0.894       182182   0.892   \n2014        2014       0.00857         0.637       207200   0.935   \n2015        2015       0.00164         0.557       185600   0.992   \n2016        2016       0.00281         0.446       204520   0.915   \n\n      instrumentalness  key  liveness  loudness  mode  speechiness    tempo  \\\n0             0.021900    2    0.1650    -8.795     1       0.4310  150.062   \n1             0.006110    1    0.1370   -10.401     1       0.0794  160.083   \n2             0.000234    2    0.1590    -7.148     1       0.2890   75.044   \n3             0.510000    5    0.0922   -15.236     1       0.0261   86.468   \n4             0.512000    5    0.4390   -11.648     0       0.0694  174.004   \n...                ...  ...       ...       ...   ...          ...      ...   \n2012          0.002690    1    0.1290    -3.501     1       0.3330   74.976   \n2013          0.001670    1    0.0528    -2.663     1       0.1310  110.041   \n2014          0.003990    0    0.2140    -2.467     1       0.1070  150.082   \n2015          0.677000    1    0.0913    -2.735     1       0.1330  150.011   \n2016          0.000039    9    0.2180    -6.221     1       0.1410  190.013   \n\n      time_signature  valence  target                            song_title  \\\n0                4.0    0.286       1                              Mask Off   \n1                4.0    0.588       1                               Redbone   \n2                4.0    0.173       1                          Xanny Family   \n3                4.0    0.230       1                        Master Of None   \n4                4.0    0.904       1                        Parallel Lines   \n...              ...      ...     ...                                   ...   \n2012             4.0    0.211       0   Like A Bitch - Kill The Noise Remix   \n2013             4.0    0.867       0                                 Candy   \n2014             4.0    0.470       0  Habit - Dack Janiels & Wenzday Remix   \n2015             4.0    0.623       0                         First Contact   \n2016             4.0    0.402       0                    I Wanna Get Better   \n\n                artist  \n0               Future  \n1     Childish Gambino  \n2               Future  \n3          Beach House  \n4          Junior Boys  \n...                ...  \n2012    Kill The Noise  \n2013    Dillon Francis  \n2014          Rain Man  \n2015        Twin Moons  \n2016         Bleachers  \n\n[2017 rows x 17 columns]",
            "text/html": "<div>\n<style scoped>\n    .dataframe tbody tr th:only-of-type {\n        vertical-align: middle;\n    }\n\n    .dataframe tbody tr th {\n        vertical-align: top;\n    }\n\n    .dataframe thead th {\n        text-align: right;\n    }\n</style>\n<table border=\"1\" class=\"dataframe\">\n  <thead>\n    <tr style=\"text-align: right;\">\n      <th></th>\n      <th>Unnamed: 0</th>\n      <th>acousticness</th>\n      <th>danceability</th>\n      <th>duration_ms</th>\n      <th>energy</th>\n      <th>instrumentalness</th>\n      <th>key</th>\n      <th>liveness</th>\n      <th>loudness</th>\n      <th>mode</th>\n      <th>speechiness</th>\n      <th>tempo</th>\n      <th>time_signature</th>\n      <th>valence</th>\n      <th>target</th>\n      <th>song_title</th>\n      <th>artist</th>\n    </tr>\n  </thead>\n  <tbody>\n    <tr>\n      <th>0</th>\n      <td>0</td>\n      <td>0.01020</td>\n      <td>0.833</td>\n      <td>204600</td>\n      <td>0.434</td>\n      <td>0.021900</td>\n      <td>2</td>\n      <td>0.1650</td>\n      <td>-8.795</td>\n      <td>1</td>\n      <td>0.4310</td>\n      <td>150.062</td>\n      <td>4.0</td>\n      <td>0.286</td>\n      <td>1</td>\n      <td>Mask Off</td>\n      <td>Future</td>\n    </tr>\n    <tr>\n      <th>1</th>\n      <td>1</td>\n      <td>0.19900</td>\n      <td>0.743</td>\n      <td>326933</td>\n      <td>0.359</td>\n      <td>0.006110</td>\n      <td>1</td>\n      <td>0.1370</td>\n      <td>-10.401</td>\n      <td>1</td>\n      <td>0.0794</td>\n      <td>160.083</td>\n      <td>4.0</td>\n      <td>0.588</td>\n      <td>1</td>\n      <td>Redbone</td>\n      <td>Childish Gambino</td>\n    </tr>\n    <tr>\n      <th>2</th>\n      <td>2</td>\n      <td>0.03440</td>\n      <td>0.838</td>\n      <td>185707</td>\n      <td>0.412</td>\n      <td>0.000234</td>\n      <td>2</td>\n      <td>0.1590</td>\n      <td>-7.148</td>\n      <td>1</td>\n      <td>0.2890</td>\n      <td>75.044</td>\n      <td>4.0</td>\n      <td>0.173</td>\n      <td>1</td>\n      <td>Xanny Family</td>\n      <td>Future</td>\n    </tr>\n    <tr>\n      <th>3</th>\n      <td>3</td>\n      <td>0.60400</td>\n      <td>0.494</td>\n      <td>199413</td>\n      <td>0.338</td>\n      <td>0.510000</td>\n      <td>5</td>\n      <td>0.0922</td>\n      <td>-15.236</td>\n      <td>1</td>\n      <td>0.0261</td>\n      <td>86.468</td>\n      <td>4.0</td>\n      <td>0.230</td>\n      <td>1</td>\n      <td>Master Of None</td>\n      <td>Beach House</td>\n    </tr>\n    <tr>\n      <th>4</th>\n      <td>4</td>\n      <td>0.18000</td>\n      <td>0.678</td>\n      <td>392893</td>\n      <td>0.561</td>\n      <td>0.512000</td>\n      <td>5</td>\n      <td>0.4390</td>\n      <td>-11.648</td>\n      <td>0</td>\n      <td>0.0694</td>\n      <td>174.004</td>\n      <td>4.0</td>\n      <td>0.904</td>\n      <td>1</td>\n      <td>Parallel Lines</td>\n      <td>Junior Boys</td>\n    </tr>\n    <tr>\n      <th>...</th>\n      <td>...</td>\n      <td>...</td>\n      <td>...</td>\n      <td>...</td>\n      <td>...</td>\n      <td>...</td>\n      <td>...</td>\n      <td>...</td>\n      <td>...</td>\n      <td>...</td>\n      <td>...</td>\n      <td>...</td>\n      <td>...</td>\n      <td>...</td>\n      <td>...</td>\n      <td>...</td>\n      <td>...</td>\n    </tr>\n    <tr>\n      <th>2012</th>\n      <td>2012</td>\n      <td>0.00106</td>\n      <td>0.584</td>\n      <td>274404</td>\n      <td>0.932</td>\n      <td>0.002690</td>\n      <td>1</td>\n      <td>0.1290</td>\n      <td>-3.501</td>\n      <td>1</td>\n      <td>0.3330</td>\n      <td>74.976</td>\n      <td>4.0</td>\n      <td>0.211</td>\n      <td>0</td>\n      <td>Like A Bitch - Kill The Noise Remix</td>\n      <td>Kill The Noise</td>\n    </tr>\n    <tr>\n      <th>2013</th>\n      <td>2013</td>\n      <td>0.08770</td>\n      <td>0.894</td>\n      <td>182182</td>\n      <td>0.892</td>\n      <td>0.001670</td>\n      <td>1</td>\n      <td>0.0528</td>\n      <td>-2.663</td>\n      <td>1</td>\n      <td>0.1310</td>\n      <td>110.041</td>\n      <td>4.0</td>\n      <td>0.867</td>\n      <td>0</td>\n      <td>Candy</td>\n      <td>Dillon Francis</td>\n    </tr>\n    <tr>\n      <th>2014</th>\n      <td>2014</td>\n      <td>0.00857</td>\n      <td>0.637</td>\n      <td>207200</td>\n      <td>0.935</td>\n      <td>0.003990</td>\n      <td>0</td>\n      <td>0.2140</td>\n      <td>-2.467</td>\n      <td>1</td>\n      <td>0.1070</td>\n      <td>150.082</td>\n      <td>4.0</td>\n      <td>0.470</td>\n      <td>0</td>\n      <td>Habit - Dack Janiels &amp; Wenzday Remix</td>\n      <td>Rain Man</td>\n    </tr>\n    <tr>\n      <th>2015</th>\n      <td>2015</td>\n      <td>0.00164</td>\n      <td>0.557</td>\n      <td>185600</td>\n      <td>0.992</td>\n      <td>0.677000</td>\n      <td>1</td>\n      <td>0.0913</td>\n      <td>-2.735</td>\n      <td>1</td>\n      <td>0.1330</td>\n      <td>150.011</td>\n      <td>4.0</td>\n      <td>0.623</td>\n      <td>0</td>\n      <td>First Contact</td>\n      <td>Twin Moons</td>\n    </tr>\n    <tr>\n      <th>2016</th>\n      <td>2016</td>\n      <td>0.00281</td>\n      <td>0.446</td>\n      <td>204520</td>\n      <td>0.915</td>\n      <td>0.000039</td>\n      <td>9</td>\n      <td>0.2180</td>\n      <td>-6.221</td>\n      <td>1</td>\n      <td>0.1410</td>\n      <td>190.013</td>\n      <td>4.0</td>\n      <td>0.402</td>\n      <td>0</td>\n      <td>I Wanna Get Better</td>\n      <td>Bleachers</td>\n    </tr>\n  </tbody>\n</table>\n<p>2017 rows × 17 columns</p>\n</div>"
          },
          "metadata": {}
        }
      ]
    },
    {
      "cell_type": "code",
      "source": "df.head() #By default it shows the first 5 rows",
      "metadata": {
        "trusted": true
      },
      "execution_count": 6,
      "outputs": [
        {
          "execution_count": 6,
          "output_type": "execute_result",
          "data": {
            "text/plain": "   Unnamed: 0  acousticness  danceability  duration_ms  energy  \\\n0           0        0.0102         0.833       204600   0.434   \n1           1        0.1990         0.743       326933   0.359   \n2           2        0.0344         0.838       185707   0.412   \n3           3        0.6040         0.494       199413   0.338   \n4           4        0.1800         0.678       392893   0.561   \n\n   instrumentalness  key  liveness  loudness  mode  speechiness    tempo  \\\n0          0.021900    2    0.1650    -8.795     1       0.4310  150.062   \n1          0.006110    1    0.1370   -10.401     1       0.0794  160.083   \n2          0.000234    2    0.1590    -7.148     1       0.2890   75.044   \n3          0.510000    5    0.0922   -15.236     1       0.0261   86.468   \n4          0.512000    5    0.4390   -11.648     0       0.0694  174.004   \n\n   time_signature  valence  target      song_title            artist  \n0             4.0    0.286       1        Mask Off            Future  \n1             4.0    0.588       1         Redbone  Childish Gambino  \n2             4.0    0.173       1    Xanny Family            Future  \n3             4.0    0.230       1  Master Of None       Beach House  \n4             4.0    0.904       1  Parallel Lines       Junior Boys  ",
            "text/html": "<div>\n<style scoped>\n    .dataframe tbody tr th:only-of-type {\n        vertical-align: middle;\n    }\n\n    .dataframe tbody tr th {\n        vertical-align: top;\n    }\n\n    .dataframe thead th {\n        text-align: right;\n    }\n</style>\n<table border=\"1\" class=\"dataframe\">\n  <thead>\n    <tr style=\"text-align: right;\">\n      <th></th>\n      <th>Unnamed: 0</th>\n      <th>acousticness</th>\n      <th>danceability</th>\n      <th>duration_ms</th>\n      <th>energy</th>\n      <th>instrumentalness</th>\n      <th>key</th>\n      <th>liveness</th>\n      <th>loudness</th>\n      <th>mode</th>\n      <th>speechiness</th>\n      <th>tempo</th>\n      <th>time_signature</th>\n      <th>valence</th>\n      <th>target</th>\n      <th>song_title</th>\n      <th>artist</th>\n    </tr>\n  </thead>\n  <tbody>\n    <tr>\n      <th>0</th>\n      <td>0</td>\n      <td>0.0102</td>\n      <td>0.833</td>\n      <td>204600</td>\n      <td>0.434</td>\n      <td>0.021900</td>\n      <td>2</td>\n      <td>0.1650</td>\n      <td>-8.795</td>\n      <td>1</td>\n      <td>0.4310</td>\n      <td>150.062</td>\n      <td>4.0</td>\n      <td>0.286</td>\n      <td>1</td>\n      <td>Mask Off</td>\n      <td>Future</td>\n    </tr>\n    <tr>\n      <th>1</th>\n      <td>1</td>\n      <td>0.1990</td>\n      <td>0.743</td>\n      <td>326933</td>\n      <td>0.359</td>\n      <td>0.006110</td>\n      <td>1</td>\n      <td>0.1370</td>\n      <td>-10.401</td>\n      <td>1</td>\n      <td>0.0794</td>\n      <td>160.083</td>\n      <td>4.0</td>\n      <td>0.588</td>\n      <td>1</td>\n      <td>Redbone</td>\n      <td>Childish Gambino</td>\n    </tr>\n    <tr>\n      <th>2</th>\n      <td>2</td>\n      <td>0.0344</td>\n      <td>0.838</td>\n      <td>185707</td>\n      <td>0.412</td>\n      <td>0.000234</td>\n      <td>2</td>\n      <td>0.1590</td>\n      <td>-7.148</td>\n      <td>1</td>\n      <td>0.2890</td>\n      <td>75.044</td>\n      <td>4.0</td>\n      <td>0.173</td>\n      <td>1</td>\n      <td>Xanny Family</td>\n      <td>Future</td>\n    </tr>\n    <tr>\n      <th>3</th>\n      <td>3</td>\n      <td>0.6040</td>\n      <td>0.494</td>\n      <td>199413</td>\n      <td>0.338</td>\n      <td>0.510000</td>\n      <td>5</td>\n      <td>0.0922</td>\n      <td>-15.236</td>\n      <td>1</td>\n      <td>0.0261</td>\n      <td>86.468</td>\n      <td>4.0</td>\n      <td>0.230</td>\n      <td>1</td>\n      <td>Master Of None</td>\n      <td>Beach House</td>\n    </tr>\n    <tr>\n      <th>4</th>\n      <td>4</td>\n      <td>0.1800</td>\n      <td>0.678</td>\n      <td>392893</td>\n      <td>0.561</td>\n      <td>0.512000</td>\n      <td>5</td>\n      <td>0.4390</td>\n      <td>-11.648</td>\n      <td>0</td>\n      <td>0.0694</td>\n      <td>174.004</td>\n      <td>4.0</td>\n      <td>0.904</td>\n      <td>1</td>\n      <td>Parallel Lines</td>\n      <td>Junior Boys</td>\n    </tr>\n  </tbody>\n</table>\n</div>"
          },
          "metadata": {}
        }
      ]
    },
    {
      "cell_type": "code",
      "source": "df.head(10) #It will show the first 10 rows",
      "metadata": {
        "trusted": true
      },
      "execution_count": 8,
      "outputs": [
        {
          "execution_count": 8,
          "output_type": "execute_result",
          "data": {
            "text/plain": "   Unnamed: 0  acousticness  danceability  duration_ms  energy  \\\n0           0       0.01020         0.833       204600   0.434   \n1           1       0.19900         0.743       326933   0.359   \n2           2       0.03440         0.838       185707   0.412   \n3           3       0.60400         0.494       199413   0.338   \n4           4       0.18000         0.678       392893   0.561   \n5           5       0.00479         0.804       251333   0.560   \n6           6       0.01450         0.739       241400   0.472   \n7           7       0.02020         0.266       349667   0.348   \n8           8       0.04810         0.603       202853   0.944   \n9           9       0.00208         0.836       226840   0.603   \n\n   instrumentalness  key  liveness  loudness  mode  speechiness    tempo  \\\n0          0.021900    2    0.1650    -8.795     1       0.4310  150.062   \n1          0.006110    1    0.1370   -10.401     1       0.0794  160.083   \n2          0.000234    2    0.1590    -7.148     1       0.2890   75.044   \n3          0.510000    5    0.0922   -15.236     1       0.0261   86.468   \n4          0.512000    5    0.4390   -11.648     0       0.0694  174.004   \n5          0.000000    8    0.1640    -6.682     1       0.1850   85.023   \n6          0.000007    1    0.2070   -11.204     1       0.1560   80.030   \n7          0.664000   10    0.1600   -11.609     0       0.0371  144.154   \n8          0.000000   11    0.3420    -3.626     0       0.3470  130.035   \n9          0.000000    7    0.5710    -7.792     1       0.2370   99.994   \n\n   time_signature  valence  target         song_title            artist  \n0             4.0    0.286       1           Mask Off            Future  \n1             4.0    0.588       1            Redbone  Childish Gambino  \n2             4.0    0.173       1       Xanny Family            Future  \n3             4.0    0.230       1     Master Of None       Beach House  \n4             4.0    0.904       1     Parallel Lines       Junior Boys  \n5             4.0    0.264       1           Sneakin’             Drake  \n6             4.0    0.308       1        Childs Play             Drake  \n7             4.0    0.393       1    Gyöngyhajú lány             Omega  \n8             4.0    0.398       1  I've Seen Footage       Death Grips  \n9             4.0    0.386       1     Digital Animal       Honey Claws  ",
            "text/html": "<div>\n<style scoped>\n    .dataframe tbody tr th:only-of-type {\n        vertical-align: middle;\n    }\n\n    .dataframe tbody tr th {\n        vertical-align: top;\n    }\n\n    .dataframe thead th {\n        text-align: right;\n    }\n</style>\n<table border=\"1\" class=\"dataframe\">\n  <thead>\n    <tr style=\"text-align: right;\">\n      <th></th>\n      <th>Unnamed: 0</th>\n      <th>acousticness</th>\n      <th>danceability</th>\n      <th>duration_ms</th>\n      <th>energy</th>\n      <th>instrumentalness</th>\n      <th>key</th>\n      <th>liveness</th>\n      <th>loudness</th>\n      <th>mode</th>\n      <th>speechiness</th>\n      <th>tempo</th>\n      <th>time_signature</th>\n      <th>valence</th>\n      <th>target</th>\n      <th>song_title</th>\n      <th>artist</th>\n    </tr>\n  </thead>\n  <tbody>\n    <tr>\n      <th>0</th>\n      <td>0</td>\n      <td>0.01020</td>\n      <td>0.833</td>\n      <td>204600</td>\n      <td>0.434</td>\n      <td>0.021900</td>\n      <td>2</td>\n      <td>0.1650</td>\n      <td>-8.795</td>\n      <td>1</td>\n      <td>0.4310</td>\n      <td>150.062</td>\n      <td>4.0</td>\n      <td>0.286</td>\n      <td>1</td>\n      <td>Mask Off</td>\n      <td>Future</td>\n    </tr>\n    <tr>\n      <th>1</th>\n      <td>1</td>\n      <td>0.19900</td>\n      <td>0.743</td>\n      <td>326933</td>\n      <td>0.359</td>\n      <td>0.006110</td>\n      <td>1</td>\n      <td>0.1370</td>\n      <td>-10.401</td>\n      <td>1</td>\n      <td>0.0794</td>\n      <td>160.083</td>\n      <td>4.0</td>\n      <td>0.588</td>\n      <td>1</td>\n      <td>Redbone</td>\n      <td>Childish Gambino</td>\n    </tr>\n    <tr>\n      <th>2</th>\n      <td>2</td>\n      <td>0.03440</td>\n      <td>0.838</td>\n      <td>185707</td>\n      <td>0.412</td>\n      <td>0.000234</td>\n      <td>2</td>\n      <td>0.1590</td>\n      <td>-7.148</td>\n      <td>1</td>\n      <td>0.2890</td>\n      <td>75.044</td>\n      <td>4.0</td>\n      <td>0.173</td>\n      <td>1</td>\n      <td>Xanny Family</td>\n      <td>Future</td>\n    </tr>\n    <tr>\n      <th>3</th>\n      <td>3</td>\n      <td>0.60400</td>\n      <td>0.494</td>\n      <td>199413</td>\n      <td>0.338</td>\n      <td>0.510000</td>\n      <td>5</td>\n      <td>0.0922</td>\n      <td>-15.236</td>\n      <td>1</td>\n      <td>0.0261</td>\n      <td>86.468</td>\n      <td>4.0</td>\n      <td>0.230</td>\n      <td>1</td>\n      <td>Master Of None</td>\n      <td>Beach House</td>\n    </tr>\n    <tr>\n      <th>4</th>\n      <td>4</td>\n      <td>0.18000</td>\n      <td>0.678</td>\n      <td>392893</td>\n      <td>0.561</td>\n      <td>0.512000</td>\n      <td>5</td>\n      <td>0.4390</td>\n      <td>-11.648</td>\n      <td>0</td>\n      <td>0.0694</td>\n      <td>174.004</td>\n      <td>4.0</td>\n      <td>0.904</td>\n      <td>1</td>\n      <td>Parallel Lines</td>\n      <td>Junior Boys</td>\n    </tr>\n    <tr>\n      <th>5</th>\n      <td>5</td>\n      <td>0.00479</td>\n      <td>0.804</td>\n      <td>251333</td>\n      <td>0.560</td>\n      <td>0.000000</td>\n      <td>8</td>\n      <td>0.1640</td>\n      <td>-6.682</td>\n      <td>1</td>\n      <td>0.1850</td>\n      <td>85.023</td>\n      <td>4.0</td>\n      <td>0.264</td>\n      <td>1</td>\n      <td>Sneakin’</td>\n      <td>Drake</td>\n    </tr>\n    <tr>\n      <th>6</th>\n      <td>6</td>\n      <td>0.01450</td>\n      <td>0.739</td>\n      <td>241400</td>\n      <td>0.472</td>\n      <td>0.000007</td>\n      <td>1</td>\n      <td>0.2070</td>\n      <td>-11.204</td>\n      <td>1</td>\n      <td>0.1560</td>\n      <td>80.030</td>\n      <td>4.0</td>\n      <td>0.308</td>\n      <td>1</td>\n      <td>Childs Play</td>\n      <td>Drake</td>\n    </tr>\n    <tr>\n      <th>7</th>\n      <td>7</td>\n      <td>0.02020</td>\n      <td>0.266</td>\n      <td>349667</td>\n      <td>0.348</td>\n      <td>0.664000</td>\n      <td>10</td>\n      <td>0.1600</td>\n      <td>-11.609</td>\n      <td>0</td>\n      <td>0.0371</td>\n      <td>144.154</td>\n      <td>4.0</td>\n      <td>0.393</td>\n      <td>1</td>\n      <td>Gyöngyhajú lány</td>\n      <td>Omega</td>\n    </tr>\n    <tr>\n      <th>8</th>\n      <td>8</td>\n      <td>0.04810</td>\n      <td>0.603</td>\n      <td>202853</td>\n      <td>0.944</td>\n      <td>0.000000</td>\n      <td>11</td>\n      <td>0.3420</td>\n      <td>-3.626</td>\n      <td>0</td>\n      <td>0.3470</td>\n      <td>130.035</td>\n      <td>4.0</td>\n      <td>0.398</td>\n      <td>1</td>\n      <td>I've Seen Footage</td>\n      <td>Death Grips</td>\n    </tr>\n    <tr>\n      <th>9</th>\n      <td>9</td>\n      <td>0.00208</td>\n      <td>0.836</td>\n      <td>226840</td>\n      <td>0.603</td>\n      <td>0.000000</td>\n      <td>7</td>\n      <td>0.5710</td>\n      <td>-7.792</td>\n      <td>1</td>\n      <td>0.2370</td>\n      <td>99.994</td>\n      <td>4.0</td>\n      <td>0.386</td>\n      <td>1</td>\n      <td>Digital Animal</td>\n      <td>Honey Claws</td>\n    </tr>\n  </tbody>\n</table>\n</div>"
          },
          "metadata": {}
        }
      ]
    },
    {
      "cell_type": "code",
      "source": "df.tail() #By default it shows the last 5 rows",
      "metadata": {
        "trusted": true
      },
      "execution_count": 9,
      "outputs": [
        {
          "execution_count": 9,
          "output_type": "execute_result",
          "data": {
            "text/plain": "      Unnamed: 0  acousticness  danceability  duration_ms  energy  \\\n2012        2012       0.00106         0.584       274404   0.932   \n2013        2013       0.08770         0.894       182182   0.892   \n2014        2014       0.00857         0.637       207200   0.935   \n2015        2015       0.00164         0.557       185600   0.992   \n2016        2016       0.00281         0.446       204520   0.915   \n\n      instrumentalness  key  liveness  loudness  mode  speechiness    tempo  \\\n2012          0.002690    1    0.1290    -3.501     1        0.333   74.976   \n2013          0.001670    1    0.0528    -2.663     1        0.131  110.041   \n2014          0.003990    0    0.2140    -2.467     1        0.107  150.082   \n2015          0.677000    1    0.0913    -2.735     1        0.133  150.011   \n2016          0.000039    9    0.2180    -6.221     1        0.141  190.013   \n\n      time_signature  valence  target                            song_title  \\\n2012             4.0    0.211       0   Like A Bitch - Kill The Noise Remix   \n2013             4.0    0.867       0                                 Candy   \n2014             4.0    0.470       0  Habit - Dack Janiels & Wenzday Remix   \n2015             4.0    0.623       0                         First Contact   \n2016             4.0    0.402       0                    I Wanna Get Better   \n\n              artist  \n2012  Kill The Noise  \n2013  Dillon Francis  \n2014        Rain Man  \n2015      Twin Moons  \n2016       Bleachers  ",
            "text/html": "<div>\n<style scoped>\n    .dataframe tbody tr th:only-of-type {\n        vertical-align: middle;\n    }\n\n    .dataframe tbody tr th {\n        vertical-align: top;\n    }\n\n    .dataframe thead th {\n        text-align: right;\n    }\n</style>\n<table border=\"1\" class=\"dataframe\">\n  <thead>\n    <tr style=\"text-align: right;\">\n      <th></th>\n      <th>Unnamed: 0</th>\n      <th>acousticness</th>\n      <th>danceability</th>\n      <th>duration_ms</th>\n      <th>energy</th>\n      <th>instrumentalness</th>\n      <th>key</th>\n      <th>liveness</th>\n      <th>loudness</th>\n      <th>mode</th>\n      <th>speechiness</th>\n      <th>tempo</th>\n      <th>time_signature</th>\n      <th>valence</th>\n      <th>target</th>\n      <th>song_title</th>\n      <th>artist</th>\n    </tr>\n  </thead>\n  <tbody>\n    <tr>\n      <th>2012</th>\n      <td>2012</td>\n      <td>0.00106</td>\n      <td>0.584</td>\n      <td>274404</td>\n      <td>0.932</td>\n      <td>0.002690</td>\n      <td>1</td>\n      <td>0.1290</td>\n      <td>-3.501</td>\n      <td>1</td>\n      <td>0.333</td>\n      <td>74.976</td>\n      <td>4.0</td>\n      <td>0.211</td>\n      <td>0</td>\n      <td>Like A Bitch - Kill The Noise Remix</td>\n      <td>Kill The Noise</td>\n    </tr>\n    <tr>\n      <th>2013</th>\n      <td>2013</td>\n      <td>0.08770</td>\n      <td>0.894</td>\n      <td>182182</td>\n      <td>0.892</td>\n      <td>0.001670</td>\n      <td>1</td>\n      <td>0.0528</td>\n      <td>-2.663</td>\n      <td>1</td>\n      <td>0.131</td>\n      <td>110.041</td>\n      <td>4.0</td>\n      <td>0.867</td>\n      <td>0</td>\n      <td>Candy</td>\n      <td>Dillon Francis</td>\n    </tr>\n    <tr>\n      <th>2014</th>\n      <td>2014</td>\n      <td>0.00857</td>\n      <td>0.637</td>\n      <td>207200</td>\n      <td>0.935</td>\n      <td>0.003990</td>\n      <td>0</td>\n      <td>0.2140</td>\n      <td>-2.467</td>\n      <td>1</td>\n      <td>0.107</td>\n      <td>150.082</td>\n      <td>4.0</td>\n      <td>0.470</td>\n      <td>0</td>\n      <td>Habit - Dack Janiels &amp; Wenzday Remix</td>\n      <td>Rain Man</td>\n    </tr>\n    <tr>\n      <th>2015</th>\n      <td>2015</td>\n      <td>0.00164</td>\n      <td>0.557</td>\n      <td>185600</td>\n      <td>0.992</td>\n      <td>0.677000</td>\n      <td>1</td>\n      <td>0.0913</td>\n      <td>-2.735</td>\n      <td>1</td>\n      <td>0.133</td>\n      <td>150.011</td>\n      <td>4.0</td>\n      <td>0.623</td>\n      <td>0</td>\n      <td>First Contact</td>\n      <td>Twin Moons</td>\n    </tr>\n    <tr>\n      <th>2016</th>\n      <td>2016</td>\n      <td>0.00281</td>\n      <td>0.446</td>\n      <td>204520</td>\n      <td>0.915</td>\n      <td>0.000039</td>\n      <td>9</td>\n      <td>0.2180</td>\n      <td>-6.221</td>\n      <td>1</td>\n      <td>0.141</td>\n      <td>190.013</td>\n      <td>4.0</td>\n      <td>0.402</td>\n      <td>0</td>\n      <td>I Wanna Get Better</td>\n      <td>Bleachers</td>\n    </tr>\n  </tbody>\n</table>\n</div>"
          },
          "metadata": {}
        }
      ]
    },
    {
      "cell_type": "code",
      "source": "df.tail(10) #It will show the last 10 rows",
      "metadata": {
        "trusted": true
      },
      "execution_count": 10,
      "outputs": [
        {
          "execution_count": 10,
          "output_type": "execute_result",
          "data": {
            "text/plain": "      Unnamed: 0  acousticness  danceability  duration_ms  energy  \\\n2007        2007      0.002170         0.639       296276   0.978   \n2008        2008      0.054100         0.646       160408   0.714   \n2009        2009      0.004990         0.595       224000   0.837   \n2010        2010      0.002310         0.624       206013   0.971   \n2011        2011      0.000586         0.528       245053   0.879   \n2012        2012      0.001060         0.584       274404   0.932   \n2013        2013      0.087700         0.894       182182   0.892   \n2014        2014      0.008570         0.637       207200   0.935   \n2015        2015      0.001640         0.557       185600   0.992   \n2016        2016      0.002810         0.446       204520   0.915   \n\n      instrumentalness  key  liveness  loudness  mode  speechiness    tempo  \\\n2007          0.112000   11    0.0838    -2.376     1       0.0730  144.986   \n2008          0.000000    0    0.1340    -6.511     1       0.0378   97.957   \n2009          0.035900    1    0.1010    -6.011     1       0.0696  149.964   \n2010          0.121000    6    0.2550    -0.935     0       0.0643  102.003   \n2011          0.004890    6    0.0432    -5.891     0       0.1200  128.268   \n2012          0.002690    1    0.1290    -3.501     1       0.3330   74.976   \n2013          0.001670    1    0.0528    -2.663     1       0.1310  110.041   \n2014          0.003990    0    0.2140    -2.467     1       0.1070  150.082   \n2015          0.677000    1    0.0913    -2.735     1       0.1330  150.011   \n2016          0.000039    9    0.2180    -6.221     1       0.1410  190.013   \n\n      time_signature  valence  target  \\\n2007             4.0    0.494       0   \n2008             4.0    0.589       0   \n2009             4.0    0.331       0   \n2010             4.0    0.442       0   \n2011             4.0    0.327       0   \n2012             4.0    0.211       0   \n2013             4.0    0.867       0   \n2014             4.0    0.470       0   \n2015             4.0    0.623       0   \n2016             4.0    0.402       0   \n\n                                        song_title                     artist  \n2007  Let It Go - Scott Melker & Mister Gray Remix                      NERVO  \n2008     Call On Me - EDWYNN X TIKAL, Spirix Remix                    Starley  \n2009                                         Aamon                      Kuuro  \n2010                   Hey Baby - Steve Aoki Remix  Dimitri Vegas & Like Mike  \n2011                   Brightside - Borgeous Remix                  Icona Pop  \n2012           Like A Bitch - Kill The Noise Remix             Kill The Noise  \n2013                                         Candy             Dillon Francis  \n2014          Habit - Dack Janiels & Wenzday Remix                   Rain Man  \n2015                                 First Contact                 Twin Moons  \n2016                            I Wanna Get Better                  Bleachers  ",
            "text/html": "<div>\n<style scoped>\n    .dataframe tbody tr th:only-of-type {\n        vertical-align: middle;\n    }\n\n    .dataframe tbody tr th {\n        vertical-align: top;\n    }\n\n    .dataframe thead th {\n        text-align: right;\n    }\n</style>\n<table border=\"1\" class=\"dataframe\">\n  <thead>\n    <tr style=\"text-align: right;\">\n      <th></th>\n      <th>Unnamed: 0</th>\n      <th>acousticness</th>\n      <th>danceability</th>\n      <th>duration_ms</th>\n      <th>energy</th>\n      <th>instrumentalness</th>\n      <th>key</th>\n      <th>liveness</th>\n      <th>loudness</th>\n      <th>mode</th>\n      <th>speechiness</th>\n      <th>tempo</th>\n      <th>time_signature</th>\n      <th>valence</th>\n      <th>target</th>\n      <th>song_title</th>\n      <th>artist</th>\n    </tr>\n  </thead>\n  <tbody>\n    <tr>\n      <th>2007</th>\n      <td>2007</td>\n      <td>0.002170</td>\n      <td>0.639</td>\n      <td>296276</td>\n      <td>0.978</td>\n      <td>0.112000</td>\n      <td>11</td>\n      <td>0.0838</td>\n      <td>-2.376</td>\n      <td>1</td>\n      <td>0.0730</td>\n      <td>144.986</td>\n      <td>4.0</td>\n      <td>0.494</td>\n      <td>0</td>\n      <td>Let It Go - Scott Melker &amp; Mister Gray Remix</td>\n      <td>NERVO</td>\n    </tr>\n    <tr>\n      <th>2008</th>\n      <td>2008</td>\n      <td>0.054100</td>\n      <td>0.646</td>\n      <td>160408</td>\n      <td>0.714</td>\n      <td>0.000000</td>\n      <td>0</td>\n      <td>0.1340</td>\n      <td>-6.511</td>\n      <td>1</td>\n      <td>0.0378</td>\n      <td>97.957</td>\n      <td>4.0</td>\n      <td>0.589</td>\n      <td>0</td>\n      <td>Call On Me - EDWYNN X TIKAL, Spirix Remix</td>\n      <td>Starley</td>\n    </tr>\n    <tr>\n      <th>2009</th>\n      <td>2009</td>\n      <td>0.004990</td>\n      <td>0.595</td>\n      <td>224000</td>\n      <td>0.837</td>\n      <td>0.035900</td>\n      <td>1</td>\n      <td>0.1010</td>\n      <td>-6.011</td>\n      <td>1</td>\n      <td>0.0696</td>\n      <td>149.964</td>\n      <td>4.0</td>\n      <td>0.331</td>\n      <td>0</td>\n      <td>Aamon</td>\n      <td>Kuuro</td>\n    </tr>\n    <tr>\n      <th>2010</th>\n      <td>2010</td>\n      <td>0.002310</td>\n      <td>0.624</td>\n      <td>206013</td>\n      <td>0.971</td>\n      <td>0.121000</td>\n      <td>6</td>\n      <td>0.2550</td>\n      <td>-0.935</td>\n      <td>0</td>\n      <td>0.0643</td>\n      <td>102.003</td>\n      <td>4.0</td>\n      <td>0.442</td>\n      <td>0</td>\n      <td>Hey Baby - Steve Aoki Remix</td>\n      <td>Dimitri Vegas &amp; Like Mike</td>\n    </tr>\n    <tr>\n      <th>2011</th>\n      <td>2011</td>\n      <td>0.000586</td>\n      <td>0.528</td>\n      <td>245053</td>\n      <td>0.879</td>\n      <td>0.004890</td>\n      <td>6</td>\n      <td>0.0432</td>\n      <td>-5.891</td>\n      <td>0</td>\n      <td>0.1200</td>\n      <td>128.268</td>\n      <td>4.0</td>\n      <td>0.327</td>\n      <td>0</td>\n      <td>Brightside - Borgeous Remix</td>\n      <td>Icona Pop</td>\n    </tr>\n    <tr>\n      <th>2012</th>\n      <td>2012</td>\n      <td>0.001060</td>\n      <td>0.584</td>\n      <td>274404</td>\n      <td>0.932</td>\n      <td>0.002690</td>\n      <td>1</td>\n      <td>0.1290</td>\n      <td>-3.501</td>\n      <td>1</td>\n      <td>0.3330</td>\n      <td>74.976</td>\n      <td>4.0</td>\n      <td>0.211</td>\n      <td>0</td>\n      <td>Like A Bitch - Kill The Noise Remix</td>\n      <td>Kill The Noise</td>\n    </tr>\n    <tr>\n      <th>2013</th>\n      <td>2013</td>\n      <td>0.087700</td>\n      <td>0.894</td>\n      <td>182182</td>\n      <td>0.892</td>\n      <td>0.001670</td>\n      <td>1</td>\n      <td>0.0528</td>\n      <td>-2.663</td>\n      <td>1</td>\n      <td>0.1310</td>\n      <td>110.041</td>\n      <td>4.0</td>\n      <td>0.867</td>\n      <td>0</td>\n      <td>Candy</td>\n      <td>Dillon Francis</td>\n    </tr>\n    <tr>\n      <th>2014</th>\n      <td>2014</td>\n      <td>0.008570</td>\n      <td>0.637</td>\n      <td>207200</td>\n      <td>0.935</td>\n      <td>0.003990</td>\n      <td>0</td>\n      <td>0.2140</td>\n      <td>-2.467</td>\n      <td>1</td>\n      <td>0.1070</td>\n      <td>150.082</td>\n      <td>4.0</td>\n      <td>0.470</td>\n      <td>0</td>\n      <td>Habit - Dack Janiels &amp; Wenzday Remix</td>\n      <td>Rain Man</td>\n    </tr>\n    <tr>\n      <th>2015</th>\n      <td>2015</td>\n      <td>0.001640</td>\n      <td>0.557</td>\n      <td>185600</td>\n      <td>0.992</td>\n      <td>0.677000</td>\n      <td>1</td>\n      <td>0.0913</td>\n      <td>-2.735</td>\n      <td>1</td>\n      <td>0.1330</td>\n      <td>150.011</td>\n      <td>4.0</td>\n      <td>0.623</td>\n      <td>0</td>\n      <td>First Contact</td>\n      <td>Twin Moons</td>\n    </tr>\n    <tr>\n      <th>2016</th>\n      <td>2016</td>\n      <td>0.002810</td>\n      <td>0.446</td>\n      <td>204520</td>\n      <td>0.915</td>\n      <td>0.000039</td>\n      <td>9</td>\n      <td>0.2180</td>\n      <td>-6.221</td>\n      <td>1</td>\n      <td>0.1410</td>\n      <td>190.013</td>\n      <td>4.0</td>\n      <td>0.402</td>\n      <td>0</td>\n      <td>I Wanna Get Better</td>\n      <td>Bleachers</td>\n    </tr>\n  </tbody>\n</table>\n</div>"
          },
          "metadata": {}
        }
      ]
    },
    {
      "cell_type": "code",
      "source": "df.info()",
      "metadata": {
        "trusted": true
      },
      "execution_count": 11,
      "outputs": [
        {
          "name": "stdout",
          "text": "<class 'pandas.core.frame.DataFrame'>\nRangeIndex: 2017 entries, 0 to 2016\nData columns (total 17 columns):\n #   Column            Non-Null Count  Dtype  \n---  ------            --------------  -----  \n 0   Unnamed: 0        2017 non-null   int64  \n 1   acousticness      2017 non-null   float64\n 2   danceability      2017 non-null   float64\n 3   duration_ms       2017 non-null   int64  \n 4   energy            2017 non-null   float64\n 5   instrumentalness  2017 non-null   float64\n 6   key               2017 non-null   int64  \n 7   liveness          2017 non-null   float64\n 8   loudness          2017 non-null   float64\n 9   mode              2017 non-null   int64  \n 10  speechiness       2017 non-null   float64\n 11  tempo             2017 non-null   float64\n 12  time_signature    2017 non-null   float64\n 13  valence           2017 non-null   float64\n 14  target            2017 non-null   int64  \n 15  song_title        2017 non-null   object \n 16  artist            2017 non-null   object \ndtypes: float64(10), int64(5), object(2)\nmemory usage: 252.2+ KB\n",
          "output_type": "stream"
        }
      ]
    },
    {
      "cell_type": "code",
      "source": "df.sort_values('danceability')['song_title'].head(10) ",
      "metadata": {
        "trusted": true
      },
      "execution_count": 12,
      "outputs": [
        {
          "execution_count": 12,
          "output_type": "execute_result",
          "data": {
            "text/plain": "729                                            Bumpy Road\n532                                       Wake Bake Skate\n817     Mozart: Requiem in D Minor, K. 626: VIII. Lacr...\n1600           Trio Sonata in G Major, Wq. 144: I. Adagio\n1598    Piano Quartet in E flat, Op.47: 3. Andante can...\n522                                                 Outro\n1348                 Be My Valentine (feat. Dickie Allen)\n1464                                           Right Here\n1313                                      Senseless Order\n1306                                                 Ruin\nName: song_title, dtype: object"
          },
          "metadata": {}
        }
      ]
    },
    {
      "cell_type": "code",
      "source": "df.sort_values('danceability')[['song_title', 'artist']].head(10) ",
      "metadata": {
        "trusted": true
      },
      "execution_count": 13,
      "outputs": [
        {
          "execution_count": 13,
          "output_type": "execute_result",
          "data": {
            "text/plain": "                                             song_title  \\\n729                                          Bumpy Road   \n532                                     Wake Bake Skate   \n817   Mozart: Requiem in D Minor, K. 626: VIII. Lacr...   \n1600         Trio Sonata in G Major, Wq. 144: I. Adagio   \n1598  Piano Quartet in E flat, Op.47: 3. Andante can...   \n522                                               Outro   \n1348               Be My Valentine (feat. Dickie Allen)   \n1464                                         Right Here   \n1313                                    Senseless Order   \n1306                                               Ruin   \n\n                         artist  \n729            Destruction Unit  \n532                      FIDLAR  \n817        Nikolaus Harnoncourt  \n1600  Carl Philipp Emanuel Bach  \n1598            Robert Schumann  \n522                         M83  \n1348                     Brojob  \n1464              Keys N Krates  \n1313         Signs of the Swarm  \n1306        Altered Perceptions  ",
            "text/html": "<div>\n<style scoped>\n    .dataframe tbody tr th:only-of-type {\n        vertical-align: middle;\n    }\n\n    .dataframe tbody tr th {\n        vertical-align: top;\n    }\n\n    .dataframe thead th {\n        text-align: right;\n    }\n</style>\n<table border=\"1\" class=\"dataframe\">\n  <thead>\n    <tr style=\"text-align: right;\">\n      <th></th>\n      <th>song_title</th>\n      <th>artist</th>\n    </tr>\n  </thead>\n  <tbody>\n    <tr>\n      <th>729</th>\n      <td>Bumpy Road</td>\n      <td>Destruction Unit</td>\n    </tr>\n    <tr>\n      <th>532</th>\n      <td>Wake Bake Skate</td>\n      <td>FIDLAR</td>\n    </tr>\n    <tr>\n      <th>817</th>\n      <td>Mozart: Requiem in D Minor, K. 626: VIII. Lacr...</td>\n      <td>Nikolaus Harnoncourt</td>\n    </tr>\n    <tr>\n      <th>1600</th>\n      <td>Trio Sonata in G Major, Wq. 144: I. Adagio</td>\n      <td>Carl Philipp Emanuel Bach</td>\n    </tr>\n    <tr>\n      <th>1598</th>\n      <td>Piano Quartet in E flat, Op.47: 3. Andante can...</td>\n      <td>Robert Schumann</td>\n    </tr>\n    <tr>\n      <th>522</th>\n      <td>Outro</td>\n      <td>M83</td>\n    </tr>\n    <tr>\n      <th>1348</th>\n      <td>Be My Valentine (feat. Dickie Allen)</td>\n      <td>Brojob</td>\n    </tr>\n    <tr>\n      <th>1464</th>\n      <td>Right Here</td>\n      <td>Keys N Krates</td>\n    </tr>\n    <tr>\n      <th>1313</th>\n      <td>Senseless Order</td>\n      <td>Signs of the Swarm</td>\n    </tr>\n    <tr>\n      <th>1306</th>\n      <td>Ruin</td>\n      <td>Altered Perceptions</td>\n    </tr>\n  </tbody>\n</table>\n</div>"
          },
          "metadata": {}
        }
      ]
    },
    {
      "cell_type": "code",
      "source": "",
      "metadata": {},
      "execution_count": null,
      "outputs": []
    },
    {
      "cell_type": "code",
      "source": "df.sort_values('duration_ms')[['song_title', 'artist', 'duration_ms']].tail(10)",
      "metadata": {
        "trusted": true
      },
      "execution_count": 14,
      "outputs": [
        {
          "execution_count": 14,
          "output_type": "execute_result",
          "data": {
            "text/plain": "                                             song_title  \\\n1602  String Quintet in C Major, Op. 29: II. Adagio ...   \n304                              Night on Bald Mountain   \n858                              Night on Bald Mountain   \n404                     Who Is He And What Is He To You   \n335                                              Zombie   \n1565                                      Gloomy Sunday   \n1603  Viola Sonata in C Minor: III. Andante con vari...   \n819                                 Southern Man - Live   \n695   Music Is the Answer - Original Extended 12-Inc...   \n1535                                The Nearness of You   \n\n                            artist  duration_ms  \n1602          Ludwig van Beethoven       649415  \n304              Modest Mussorgsky       659560  \n858              Modest Mussorgsky       700027  \n404                Creative Source       703107  \n335                      Fela Kuti       745653  \n1565             Branford Marsalis       763467  \n1603             Felix Mendelssohn       784013  \n819   Crosby, Stills, Nash & Young       825027  \n695                         Celeda       849960  \n1535                 Joshua Redman      1004627  ",
            "text/html": "<div>\n<style scoped>\n    .dataframe tbody tr th:only-of-type {\n        vertical-align: middle;\n    }\n\n    .dataframe tbody tr th {\n        vertical-align: top;\n    }\n\n    .dataframe thead th {\n        text-align: right;\n    }\n</style>\n<table border=\"1\" class=\"dataframe\">\n  <thead>\n    <tr style=\"text-align: right;\">\n      <th></th>\n      <th>song_title</th>\n      <th>artist</th>\n      <th>duration_ms</th>\n    </tr>\n  </thead>\n  <tbody>\n    <tr>\n      <th>1602</th>\n      <td>String Quintet in C Major, Op. 29: II. Adagio ...</td>\n      <td>Ludwig van Beethoven</td>\n      <td>649415</td>\n    </tr>\n    <tr>\n      <th>304</th>\n      <td>Night on Bald Mountain</td>\n      <td>Modest Mussorgsky</td>\n      <td>659560</td>\n    </tr>\n    <tr>\n      <th>858</th>\n      <td>Night on Bald Mountain</td>\n      <td>Modest Mussorgsky</td>\n      <td>700027</td>\n    </tr>\n    <tr>\n      <th>404</th>\n      <td>Who Is He And What Is He To You</td>\n      <td>Creative Source</td>\n      <td>703107</td>\n    </tr>\n    <tr>\n      <th>335</th>\n      <td>Zombie</td>\n      <td>Fela Kuti</td>\n      <td>745653</td>\n    </tr>\n    <tr>\n      <th>1565</th>\n      <td>Gloomy Sunday</td>\n      <td>Branford Marsalis</td>\n      <td>763467</td>\n    </tr>\n    <tr>\n      <th>1603</th>\n      <td>Viola Sonata in C Minor: III. Andante con vari...</td>\n      <td>Felix Mendelssohn</td>\n      <td>784013</td>\n    </tr>\n    <tr>\n      <th>819</th>\n      <td>Southern Man - Live</td>\n      <td>Crosby, Stills, Nash &amp; Young</td>\n      <td>825027</td>\n    </tr>\n    <tr>\n      <th>695</th>\n      <td>Music Is the Answer - Original Extended 12-Inc...</td>\n      <td>Celeda</td>\n      <td>849960</td>\n    </tr>\n    <tr>\n      <th>1535</th>\n      <td>The Nearness of You</td>\n      <td>Joshua Redman</td>\n      <td>1004627</td>\n    </tr>\n  </tbody>\n</table>\n</div>"
          },
          "metadata": {}
        }
      ]
    },
    {
      "cell_type": "code",
      "source": "df_filt = df[df['duration_ms'] < 400000] #Our first filter in action\ndf_filt",
      "metadata": {
        "trusted": true
      },
      "execution_count": 22,
      "outputs": [
        {
          "execution_count": 22,
          "output_type": "execute_result",
          "data": {
            "text/plain": "      Unnamed: 0  acousticness  danceability  duration_ms  energy  \\\n0              0       0.01020         0.833       204600   0.434   \n1              1       0.19900         0.743       326933   0.359   \n2              2       0.03440         0.838       185707   0.412   \n3              3       0.60400         0.494       199413   0.338   \n4              4       0.18000         0.678       392893   0.561   \n...          ...           ...           ...          ...     ...   \n2012        2012       0.00106         0.584       274404   0.932   \n2013        2013       0.08770         0.894       182182   0.892   \n2014        2014       0.00857         0.637       207200   0.935   \n2015        2015       0.00164         0.557       185600   0.992   \n2016        2016       0.00281         0.446       204520   0.915   \n\n      instrumentalness  key  liveness  loudness  mode  speechiness    tempo  \\\n0             0.021900    2    0.1650    -8.795     1       0.4310  150.062   \n1             0.006110    1    0.1370   -10.401     1       0.0794  160.083   \n2             0.000234    2    0.1590    -7.148     1       0.2890   75.044   \n3             0.510000    5    0.0922   -15.236     1       0.0261   86.468   \n4             0.512000    5    0.4390   -11.648     0       0.0694  174.004   \n...                ...  ...       ...       ...   ...          ...      ...   \n2012          0.002690    1    0.1290    -3.501     1       0.3330   74.976   \n2013          0.001670    1    0.0528    -2.663     1       0.1310  110.041   \n2014          0.003990    0    0.2140    -2.467     1       0.1070  150.082   \n2015          0.677000    1    0.0913    -2.735     1       0.1330  150.011   \n2016          0.000039    9    0.2180    -6.221     1       0.1410  190.013   \n\n      time_signature  valence  target                            song_title  \\\n0                4.0    0.286       1                              Mask Off   \n1                4.0    0.588       1                               Redbone   \n2                4.0    0.173       1                          Xanny Family   \n3                4.0    0.230       1                        Master Of None   \n4                4.0    0.904       1                        Parallel Lines   \n...              ...      ...     ...                                   ...   \n2012             4.0    0.211       0   Like A Bitch - Kill The Noise Remix   \n2013             4.0    0.867       0                                 Candy   \n2014             4.0    0.470       0  Habit - Dack Janiels & Wenzday Remix   \n2015             4.0    0.623       0                         First Contact   \n2016             4.0    0.402       0                    I Wanna Get Better   \n\n                artist  \n0               Future  \n1     Childish Gambino  \n2               Future  \n3          Beach House  \n4          Junior Boys  \n...                ...  \n2012    Kill The Noise  \n2013    Dillon Francis  \n2014          Rain Man  \n2015        Twin Moons  \n2016         Bleachers  \n\n[1925 rows x 17 columns]",
            "text/html": "<div>\n<style scoped>\n    .dataframe tbody tr th:only-of-type {\n        vertical-align: middle;\n    }\n\n    .dataframe tbody tr th {\n        vertical-align: top;\n    }\n\n    .dataframe thead th {\n        text-align: right;\n    }\n</style>\n<table border=\"1\" class=\"dataframe\">\n  <thead>\n    <tr style=\"text-align: right;\">\n      <th></th>\n      <th>Unnamed: 0</th>\n      <th>acousticness</th>\n      <th>danceability</th>\n      <th>duration_ms</th>\n      <th>energy</th>\n      <th>instrumentalness</th>\n      <th>key</th>\n      <th>liveness</th>\n      <th>loudness</th>\n      <th>mode</th>\n      <th>speechiness</th>\n      <th>tempo</th>\n      <th>time_signature</th>\n      <th>valence</th>\n      <th>target</th>\n      <th>song_title</th>\n      <th>artist</th>\n    </tr>\n  </thead>\n  <tbody>\n    <tr>\n      <th>0</th>\n      <td>0</td>\n      <td>0.01020</td>\n      <td>0.833</td>\n      <td>204600</td>\n      <td>0.434</td>\n      <td>0.021900</td>\n      <td>2</td>\n      <td>0.1650</td>\n      <td>-8.795</td>\n      <td>1</td>\n      <td>0.4310</td>\n      <td>150.062</td>\n      <td>4.0</td>\n      <td>0.286</td>\n      <td>1</td>\n      <td>Mask Off</td>\n      <td>Future</td>\n    </tr>\n    <tr>\n      <th>1</th>\n      <td>1</td>\n      <td>0.19900</td>\n      <td>0.743</td>\n      <td>326933</td>\n      <td>0.359</td>\n      <td>0.006110</td>\n      <td>1</td>\n      <td>0.1370</td>\n      <td>-10.401</td>\n      <td>1</td>\n      <td>0.0794</td>\n      <td>160.083</td>\n      <td>4.0</td>\n      <td>0.588</td>\n      <td>1</td>\n      <td>Redbone</td>\n      <td>Childish Gambino</td>\n    </tr>\n    <tr>\n      <th>2</th>\n      <td>2</td>\n      <td>0.03440</td>\n      <td>0.838</td>\n      <td>185707</td>\n      <td>0.412</td>\n      <td>0.000234</td>\n      <td>2</td>\n      <td>0.1590</td>\n      <td>-7.148</td>\n      <td>1</td>\n      <td>0.2890</td>\n      <td>75.044</td>\n      <td>4.0</td>\n      <td>0.173</td>\n      <td>1</td>\n      <td>Xanny Family</td>\n      <td>Future</td>\n    </tr>\n    <tr>\n      <th>3</th>\n      <td>3</td>\n      <td>0.60400</td>\n      <td>0.494</td>\n      <td>199413</td>\n      <td>0.338</td>\n      <td>0.510000</td>\n      <td>5</td>\n      <td>0.0922</td>\n      <td>-15.236</td>\n      <td>1</td>\n      <td>0.0261</td>\n      <td>86.468</td>\n      <td>4.0</td>\n      <td>0.230</td>\n      <td>1</td>\n      <td>Master Of None</td>\n      <td>Beach House</td>\n    </tr>\n    <tr>\n      <th>4</th>\n      <td>4</td>\n      <td>0.18000</td>\n      <td>0.678</td>\n      <td>392893</td>\n      <td>0.561</td>\n      <td>0.512000</td>\n      <td>5</td>\n      <td>0.4390</td>\n      <td>-11.648</td>\n      <td>0</td>\n      <td>0.0694</td>\n      <td>174.004</td>\n      <td>4.0</td>\n      <td>0.904</td>\n      <td>1</td>\n      <td>Parallel Lines</td>\n      <td>Junior Boys</td>\n    </tr>\n    <tr>\n      <th>...</th>\n      <td>...</td>\n      <td>...</td>\n      <td>...</td>\n      <td>...</td>\n      <td>...</td>\n      <td>...</td>\n      <td>...</td>\n      <td>...</td>\n      <td>...</td>\n      <td>...</td>\n      <td>...</td>\n      <td>...</td>\n      <td>...</td>\n      <td>...</td>\n      <td>...</td>\n      <td>...</td>\n      <td>...</td>\n    </tr>\n    <tr>\n      <th>2012</th>\n      <td>2012</td>\n      <td>0.00106</td>\n      <td>0.584</td>\n      <td>274404</td>\n      <td>0.932</td>\n      <td>0.002690</td>\n      <td>1</td>\n      <td>0.1290</td>\n      <td>-3.501</td>\n      <td>1</td>\n      <td>0.3330</td>\n      <td>74.976</td>\n      <td>4.0</td>\n      <td>0.211</td>\n      <td>0</td>\n      <td>Like A Bitch - Kill The Noise Remix</td>\n      <td>Kill The Noise</td>\n    </tr>\n    <tr>\n      <th>2013</th>\n      <td>2013</td>\n      <td>0.08770</td>\n      <td>0.894</td>\n      <td>182182</td>\n      <td>0.892</td>\n      <td>0.001670</td>\n      <td>1</td>\n      <td>0.0528</td>\n      <td>-2.663</td>\n      <td>1</td>\n      <td>0.1310</td>\n      <td>110.041</td>\n      <td>4.0</td>\n      <td>0.867</td>\n      <td>0</td>\n      <td>Candy</td>\n      <td>Dillon Francis</td>\n    </tr>\n    <tr>\n      <th>2014</th>\n      <td>2014</td>\n      <td>0.00857</td>\n      <td>0.637</td>\n      <td>207200</td>\n      <td>0.935</td>\n      <td>0.003990</td>\n      <td>0</td>\n      <td>0.2140</td>\n      <td>-2.467</td>\n      <td>1</td>\n      <td>0.1070</td>\n      <td>150.082</td>\n      <td>4.0</td>\n      <td>0.470</td>\n      <td>0</td>\n      <td>Habit - Dack Janiels &amp; Wenzday Remix</td>\n      <td>Rain Man</td>\n    </tr>\n    <tr>\n      <th>2015</th>\n      <td>2015</td>\n      <td>0.00164</td>\n      <td>0.557</td>\n      <td>185600</td>\n      <td>0.992</td>\n      <td>0.677000</td>\n      <td>1</td>\n      <td>0.0913</td>\n      <td>-2.735</td>\n      <td>1</td>\n      <td>0.1330</td>\n      <td>150.011</td>\n      <td>4.0</td>\n      <td>0.623</td>\n      <td>0</td>\n      <td>First Contact</td>\n      <td>Twin Moons</td>\n    </tr>\n    <tr>\n      <th>2016</th>\n      <td>2016</td>\n      <td>0.00281</td>\n      <td>0.446</td>\n      <td>204520</td>\n      <td>0.915</td>\n      <td>0.000039</td>\n      <td>9</td>\n      <td>0.2180</td>\n      <td>-6.221</td>\n      <td>1</td>\n      <td>0.1410</td>\n      <td>190.013</td>\n      <td>4.0</td>\n      <td>0.402</td>\n      <td>0</td>\n      <td>I Wanna Get Better</td>\n      <td>Bleachers</td>\n    </tr>\n  </tbody>\n</table>\n<p>1925 rows × 17 columns</p>\n</div>"
          },
          "metadata": {}
        }
      ]
    },
    {
      "cell_type": "code",
      "source": "df_filt2 = df_filt.sort_values('energy')[['song_title', 'artist', 'duration_ms']].tail(10)\ndf_filt2",
      "metadata": {
        "trusted": true
      },
      "execution_count": 23,
      "outputs": [
        {
          "execution_count": 23,
          "output_type": "execute_result",
          "data": {
            "text/plain": "               song_title                    artist  duration_ms\n1296         Black Colors       Victim Of Deception       247533\n1681                Hated                 Beartooth       211430\n1328  Down into the Abyss               Conjonctive       256920\n1680             Paranoia         A Day To Remember       200677\n1332      Beautiful Agony          Within The Ruins       271560\n2015        First Contact                Twin Moons       185600\n1347           Unanswered           Suicide Silence       135653\n1297    A Darkened Gospel      A Wake in Providence       311217\n1322           Pitchblack  Walking Dead On Broadway       221776\n1299        No Absolution         Thy Art Is Murder       201783",
            "text/html": "<div>\n<style scoped>\n    .dataframe tbody tr th:only-of-type {\n        vertical-align: middle;\n    }\n\n    .dataframe tbody tr th {\n        vertical-align: top;\n    }\n\n    .dataframe thead th {\n        text-align: right;\n    }\n</style>\n<table border=\"1\" class=\"dataframe\">\n  <thead>\n    <tr style=\"text-align: right;\">\n      <th></th>\n      <th>song_title</th>\n      <th>artist</th>\n      <th>duration_ms</th>\n    </tr>\n  </thead>\n  <tbody>\n    <tr>\n      <th>1296</th>\n      <td>Black Colors</td>\n      <td>Victim Of Deception</td>\n      <td>247533</td>\n    </tr>\n    <tr>\n      <th>1681</th>\n      <td>Hated</td>\n      <td>Beartooth</td>\n      <td>211430</td>\n    </tr>\n    <tr>\n      <th>1328</th>\n      <td>Down into the Abyss</td>\n      <td>Conjonctive</td>\n      <td>256920</td>\n    </tr>\n    <tr>\n      <th>1680</th>\n      <td>Paranoia</td>\n      <td>A Day To Remember</td>\n      <td>200677</td>\n    </tr>\n    <tr>\n      <th>1332</th>\n      <td>Beautiful Agony</td>\n      <td>Within The Ruins</td>\n      <td>271560</td>\n    </tr>\n    <tr>\n      <th>2015</th>\n      <td>First Contact</td>\n      <td>Twin Moons</td>\n      <td>185600</td>\n    </tr>\n    <tr>\n      <th>1347</th>\n      <td>Unanswered</td>\n      <td>Suicide Silence</td>\n      <td>135653</td>\n    </tr>\n    <tr>\n      <th>1297</th>\n      <td>A Darkened Gospel</td>\n      <td>A Wake in Providence</td>\n      <td>311217</td>\n    </tr>\n    <tr>\n      <th>1322</th>\n      <td>Pitchblack</td>\n      <td>Walking Dead On Broadway</td>\n      <td>221776</td>\n    </tr>\n    <tr>\n      <th>1299</th>\n      <td>No Absolution</td>\n      <td>Thy Art Is Murder</td>\n      <td>201783</td>\n    </tr>\n  </tbody>\n</table>\n</div>"
          },
          "metadata": {}
        }
      ]
    },
    {
      "cell_type": "code",
      "source": "df3 = df_filt.sort_values('energy',ascending=False)[['song_title', 'artist', 'duration_ms']].tail(10)\ndf3",
      "metadata": {
        "trusted": true
      },
      "execution_count": 26,
      "outputs": [
        {
          "execution_count": 26,
          "output_type": "execute_result",
          "data": {
            "text/plain": "                                             song_title                artist  \\\n1546                                     Almas vaggvisa     Jan Lundgren Trio   \n1876           Nocturne No.1 In B Flat Minor, Op.9 No.1       Frédéric Chopin   \n817   Mozart: Requiem in D Minor, K. 626: VIII. Lacr...  Nikolaus Harnoncourt   \n1531          I Was So Young, and You Were So Beautiful          Bill Charlap   \n1530                             I'm a Fool to Want You      Passport Quartet   \n1545                               Blue and Sentimental           Julian Dash   \n1596            8 Fantasiestücke, Op.12 : 1. Des Abends       Robert Schumann   \n1537                                      Blue in Green           Miles Davis   \n1595  String Quartet No. 4 in C Major, D. 46: II. An...        Franz Schubert   \n1594            Lyric Pieces, Book I Op. 12: I. Arietta          Edvard Grieg   \n\n      duration_ms  \n1546       232046  \n1876       336000  \n817        175173  \n1531       234373  \n1530        66762  \n1545       389893  \n1596       221173  \n1537       337733  \n1595       295747  \n1594        82293  ",
            "text/html": "<div>\n<style scoped>\n    .dataframe tbody tr th:only-of-type {\n        vertical-align: middle;\n    }\n\n    .dataframe tbody tr th {\n        vertical-align: top;\n    }\n\n    .dataframe thead th {\n        text-align: right;\n    }\n</style>\n<table border=\"1\" class=\"dataframe\">\n  <thead>\n    <tr style=\"text-align: right;\">\n      <th></th>\n      <th>song_title</th>\n      <th>artist</th>\n      <th>duration_ms</th>\n    </tr>\n  </thead>\n  <tbody>\n    <tr>\n      <th>1546</th>\n      <td>Almas vaggvisa</td>\n      <td>Jan Lundgren Trio</td>\n      <td>232046</td>\n    </tr>\n    <tr>\n      <th>1876</th>\n      <td>Nocturne No.1 In B Flat Minor, Op.9 No.1</td>\n      <td>Frédéric Chopin</td>\n      <td>336000</td>\n    </tr>\n    <tr>\n      <th>817</th>\n      <td>Mozart: Requiem in D Minor, K. 626: VIII. Lacr...</td>\n      <td>Nikolaus Harnoncourt</td>\n      <td>175173</td>\n    </tr>\n    <tr>\n      <th>1531</th>\n      <td>I Was So Young, and You Were So Beautiful</td>\n      <td>Bill Charlap</td>\n      <td>234373</td>\n    </tr>\n    <tr>\n      <th>1530</th>\n      <td>I'm a Fool to Want You</td>\n      <td>Passport Quartet</td>\n      <td>66762</td>\n    </tr>\n    <tr>\n      <th>1545</th>\n      <td>Blue and Sentimental</td>\n      <td>Julian Dash</td>\n      <td>389893</td>\n    </tr>\n    <tr>\n      <th>1596</th>\n      <td>8 Fantasiestücke, Op.12 : 1. Des Abends</td>\n      <td>Robert Schumann</td>\n      <td>221173</td>\n    </tr>\n    <tr>\n      <th>1537</th>\n      <td>Blue in Green</td>\n      <td>Miles Davis</td>\n      <td>337733</td>\n    </tr>\n    <tr>\n      <th>1595</th>\n      <td>String Quartet No. 4 in C Major, D. 46: II. An...</td>\n      <td>Franz Schubert</td>\n      <td>295747</td>\n    </tr>\n    <tr>\n      <th>1594</th>\n      <td>Lyric Pieces, Book I Op. 12: I. Arietta</td>\n      <td>Edvard Grieg</td>\n      <td>82293</td>\n    </tr>\n  </tbody>\n</table>\n</div>"
          },
          "metadata": {}
        }
      ]
    },
    {
      "cell_type": "code",
      "source": "df_filtered = df.sort_values('duration_ms')[['song_title', 'artist', 'duration_ms']].tail(10)\ndf_filtered.to_csv(r'<File Path>\\filtered_data.csv')",
      "metadata": {
        "trusted": true
      },
      "execution_count": 27,
      "outputs": []
    },
    {
      "cell_type": "code",
      "source": "df4=df[df['energy']>0.4]['song_title']\ndf4",
      "metadata": {
        "trusted": true
      },
      "execution_count": 28,
      "outputs": [
        {
          "execution_count": 28,
          "output_type": "execute_result",
          "data": {
            "text/plain": "0                                   Mask Off\n2                               Xanny Family\n4                             Parallel Lines\n5                                   Sneakin’\n6                                Childs Play\n                        ...                 \n2012     Like A Bitch - Kill The Noise Remix\n2013                                   Candy\n2014    Habit - Dack Janiels & Wenzday Remix\n2015                           First Contact\n2016                      I Wanna Get Better\nName: song_title, Length: 1830, dtype: object"
          },
          "metadata": {}
        }
      ]
    },
    {
      "cell_type": "code",
      "source": "df5=df[df['duration_ms']<300000].sort_values('tempo',ascending=False)[['song_title','artist']]\ndf5",
      "metadata": {
        "trusted": true
      },
      "execution_count": 29,
      "outputs": [
        {
          "execution_count": 29,
          "output_type": "execute_result",
          "data": {
            "text/plain": "                                       song_title              artist\n124                              Danger and Dread          Brown Bird\n718                                   Hannah Hunt     Vampire Weekend\n1960                                   Puppy Love        Donny Osmond\n1711                                      Amazing       Big Time Rush\n809                               Tupelo - Part 1         Pop Staples\n...                                           ...                 ...\n1542                            Can't Help Loving        Beegie Adair\n1544                         When Sunny Gets Blue         McCoy Tyner\n1406                         Don't You Cry For Me                Cobi\n1532  Journey Into Melody - 2007 Digital Remaster  Stanley Turrentine\n1531    I Was So Young, and You Were So Beautiful        Bill Charlap\n\n[1695 rows x 2 columns]",
            "text/html": "<div>\n<style scoped>\n    .dataframe tbody tr th:only-of-type {\n        vertical-align: middle;\n    }\n\n    .dataframe tbody tr th {\n        vertical-align: top;\n    }\n\n    .dataframe thead th {\n        text-align: right;\n    }\n</style>\n<table border=\"1\" class=\"dataframe\">\n  <thead>\n    <tr style=\"text-align: right;\">\n      <th></th>\n      <th>song_title</th>\n      <th>artist</th>\n    </tr>\n  </thead>\n  <tbody>\n    <tr>\n      <th>124</th>\n      <td>Danger and Dread</td>\n      <td>Brown Bird</td>\n    </tr>\n    <tr>\n      <th>718</th>\n      <td>Hannah Hunt</td>\n      <td>Vampire Weekend</td>\n    </tr>\n    <tr>\n      <th>1960</th>\n      <td>Puppy Love</td>\n      <td>Donny Osmond</td>\n    </tr>\n    <tr>\n      <th>1711</th>\n      <td>Amazing</td>\n      <td>Big Time Rush</td>\n    </tr>\n    <tr>\n      <th>809</th>\n      <td>Tupelo - Part 1</td>\n      <td>Pop Staples</td>\n    </tr>\n    <tr>\n      <th>...</th>\n      <td>...</td>\n      <td>...</td>\n    </tr>\n    <tr>\n      <th>1542</th>\n      <td>Can't Help Loving</td>\n      <td>Beegie Adair</td>\n    </tr>\n    <tr>\n      <th>1544</th>\n      <td>When Sunny Gets Blue</td>\n      <td>McCoy Tyner</td>\n    </tr>\n    <tr>\n      <th>1406</th>\n      <td>Don't You Cry For Me</td>\n      <td>Cobi</td>\n    </tr>\n    <tr>\n      <th>1532</th>\n      <td>Journey Into Melody - 2007 Digital Remaster</td>\n      <td>Stanley Turrentine</td>\n    </tr>\n    <tr>\n      <th>1531</th>\n      <td>I Was So Young, and You Were So Beautiful</td>\n      <td>Bill Charlap</td>\n    </tr>\n  </tbody>\n</table>\n<p>1695 rows × 2 columns</p>\n</div>"
          },
          "metadata": {}
        }
      ]
    },
    {
      "cell_type": "code",
      "source": "df6=df[df['artist']=='Drake']\ndf7=df6[df6['energy']>0.5]['song_title']\ndf7",
      "metadata": {
        "trusted": true
      },
      "execution_count": 32,
      "outputs": [
        {
          "execution_count": 32,
          "output_type": "execute_result",
          "data": {
            "text/plain": "5                      Sneakin’\n37                      Jumpman\n117               Hotline Bling\n154                   Big Rings\n440                   Headlines\n589     Started From the Bottom\n779     0 To 100 / The Catch Up\n1016           Skepta Interlude\n1218            Best I Ever Had\n1223                  Take Care\nName: song_title, dtype: object"
          },
          "metadata": {}
        }
      ]
    },
    {
      "cell_type": "code",
      "source": "#Additional_Task\n#1\ndf_new = df[[\"instrumentalness\",\"song_title\",\"artist\"]] \ndf_new = df_new.sort_values(\"instrumentalness\", ascending = False).head(10) \ndf_new",
      "metadata": {},
      "execution_count": null,
      "outputs": [
        {
          "execution_count": 38,
          "output_type": "execute_result",
          "data": {
            "text/plain": "      instrumentalness                            song_title  \\\n1313             0.976                       Senseless Order   \n271              0.968  So Destroyed (channeling Rage Peace)   \n1575             0.964             A Hundred Dreams from Now   \n1619             0.958                                 Raven   \n725              0.957                     Strandbar (disko)   \n1546             0.956                        Almas vaggvisa   \n1322             0.955                            Pitchblack   \n1349             0.954                       Prismatic Abyss   \n1661             0.954                               Yebisah   \n121              0.952                        Chasing Heaven   \n\n                        artist  \n1313        Signs of the Swarm  \n271                Prince Rama  \n1575                Ray Bryant  \n1619             John Dahlbäck  \n725                 Todd Terje  \n1546         Jan Lundgren Trio  \n1322  Walking Dead On Broadway  \n1349           Aversions Crown  \n1661               Mark Knight  \n121                 Bassnectar  ",
            "text/html": "<div>\n<style scoped>\n    .dataframe tbody tr th:only-of-type {\n        vertical-align: middle;\n    }\n\n    .dataframe tbody tr th {\n        vertical-align: top;\n    }\n\n    .dataframe thead th {\n        text-align: right;\n    }\n</style>\n<table border=\"1\" class=\"dataframe\">\n  <thead>\n    <tr style=\"text-align: right;\">\n      <th></th>\n      <th>instrumentalness</th>\n      <th>song_title</th>\n      <th>artist</th>\n    </tr>\n  </thead>\n  <tbody>\n    <tr>\n      <th>1313</th>\n      <td>0.976</td>\n      <td>Senseless Order</td>\n      <td>Signs of the Swarm</td>\n    </tr>\n    <tr>\n      <th>271</th>\n      <td>0.968</td>\n      <td>So Destroyed (channeling Rage Peace)</td>\n      <td>Prince Rama</td>\n    </tr>\n    <tr>\n      <th>1575</th>\n      <td>0.964</td>\n      <td>A Hundred Dreams from Now</td>\n      <td>Ray Bryant</td>\n    </tr>\n    <tr>\n      <th>1619</th>\n      <td>0.958</td>\n      <td>Raven</td>\n      <td>John Dahlbäck</td>\n    </tr>\n    <tr>\n      <th>725</th>\n      <td>0.957</td>\n      <td>Strandbar (disko)</td>\n      <td>Todd Terje</td>\n    </tr>\n    <tr>\n      <th>1546</th>\n      <td>0.956</td>\n      <td>Almas vaggvisa</td>\n      <td>Jan Lundgren Trio</td>\n    </tr>\n    <tr>\n      <th>1322</th>\n      <td>0.955</td>\n      <td>Pitchblack</td>\n      <td>Walking Dead On Broadway</td>\n    </tr>\n    <tr>\n      <th>1349</th>\n      <td>0.954</td>\n      <td>Prismatic Abyss</td>\n      <td>Aversions Crown</td>\n    </tr>\n    <tr>\n      <th>1661</th>\n      <td>0.954</td>\n      <td>Yebisah</td>\n      <td>Mark Knight</td>\n    </tr>\n    <tr>\n      <th>121</th>\n      <td>0.952</td>\n      <td>Chasing Heaven</td>\n      <td>Bassnectar</td>\n    </tr>\n  </tbody>\n</table>\n</div>"
          },
          "metadata": {}
        }
      ]
    },
    {
      "cell_type": "code",
      "source": "#2\ndf[\"artist\"].value_counts().index.tolist()[:10]\nnames = df.loc[df['artist'].isin(df[\"artist\"].value_counts().index.tolist()[:10])]\nnames[\"artist\"].unique() ",
      "metadata": {
        "trusted": true
      },
      "execution_count": 39,
      "outputs": [
        {
          "execution_count": 39,
          "output_type": "execute_result",
          "data": {
            "text/plain": "array(['Future', 'Drake', 'Crystal Castles', 'Disclosure', 'Rick Ross',\n       'FIDLAR', 'Fall Out Boy', 'Skrillex', 'Backstreet Boys',\n       'WALK THE MOON'], dtype=object)"
          },
          "metadata": {}
        }
      ]
    },
    {
      "cell_type": "code",
      "source": "df_names = names.groupby(\"artist\")\ndf_names = df_names.mean()\ndf_names_final = df_names[[\"tempo\"]]\ndf_names_final",
      "metadata": {
        "trusted": true
      },
      "execution_count": 40,
      "outputs": [
        {
          "execution_count": 40,
          "output_type": "execute_result",
          "data": {
            "text/plain": "                      tempo\nartist                     \nBackstreet Boys  113.066600\nCrystal Castles  128.600778\nDisclosure       128.118417\nDrake            112.406750\nFIDLAR           145.983444\nFall Out Boy     133.815625\nFuture           128.989625\nRick Ross        110.721923\nSkrillex         132.454125\nWALK THE MOON    136.163600",
            "text/html": "<div>\n<style scoped>\n    .dataframe tbody tr th:only-of-type {\n        vertical-align: middle;\n    }\n\n    .dataframe tbody tr th {\n        vertical-align: top;\n    }\n\n    .dataframe thead th {\n        text-align: right;\n    }\n</style>\n<table border=\"1\" class=\"dataframe\">\n  <thead>\n    <tr style=\"text-align: right;\">\n      <th></th>\n      <th>tempo</th>\n    </tr>\n    <tr>\n      <th>artist</th>\n      <th></th>\n    </tr>\n  </thead>\n  <tbody>\n    <tr>\n      <th>Backstreet Boys</th>\n      <td>113.066600</td>\n    </tr>\n    <tr>\n      <th>Crystal Castles</th>\n      <td>128.600778</td>\n    </tr>\n    <tr>\n      <th>Disclosure</th>\n      <td>128.118417</td>\n    </tr>\n    <tr>\n      <th>Drake</th>\n      <td>112.406750</td>\n    </tr>\n    <tr>\n      <th>FIDLAR</th>\n      <td>145.983444</td>\n    </tr>\n    <tr>\n      <th>Fall Out Boy</th>\n      <td>133.815625</td>\n    </tr>\n    <tr>\n      <th>Future</th>\n      <td>128.989625</td>\n    </tr>\n    <tr>\n      <th>Rick Ross</th>\n      <td>110.721923</td>\n    </tr>\n    <tr>\n      <th>Skrillex</th>\n      <td>132.454125</td>\n    </tr>\n    <tr>\n      <th>WALK THE MOON</th>\n      <td>136.163600</td>\n    </tr>\n  </tbody>\n</table>\n</div>"
          },
          "metadata": {}
        }
      ]
    },
    {
      "cell_type": "code",
      "source": "",
      "metadata": {},
      "execution_count": null,
      "outputs": []
    }
  ]
}